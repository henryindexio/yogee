{
 "cells": [
  {
   "cell_type": "code",
   "execution_count": 1,
   "metadata": {},
   "outputs": [],
   "source": [
    "import geopandas as gpd\n",
    "import numpy as np\n",
    "import pandas as pd\n"
   ]
  },
  {
   "cell_type": "code",
   "execution_count": 2,
   "metadata": {},
   "outputs": [],
   "source": [
    "import pickle\n",
    "#Load Yoga Score prediction\n",
    "f = open('/home/henry/Insight/Yogee/Model/PredictDf.pckl', 'rb')\n",
    "PredictDf = pickle.load(f)\n",
    "f.close()"
   ]
  },
  {
   "cell_type": "code",
   "execution_count": 3,
   "metadata": {},
   "outputs": [],
   "source": [
    "# File path\n",
    "NYCZipcodeShpLocation = \"/home/henry/Downloads/NYC_zipcode_boundary/ZIP_CODE_040114.shp\"\n",
    "\n",
    "# Read the data\n",
    "NYCZipcodeSh = gpd.read_file(NYCZipcodeShpLocation)"
   ]
  },
  {
   "cell_type": "code",
   "execution_count": 4,
   "metadata": {
    "scrolled": true
   },
   "outputs": [],
   "source": [
    "NYCrecommend = 0\n",
    "nonNYCrecommend = 0\n",
    "\n",
    "for i in range(0,PredictDf.shape[0]):\n",
    "    PredictRow = PredictDf.iloc[i]\n",
    "    PredictZip = '{:05}'.format(int(PredictRow['zip']))\n",
    "    PredictScore = PredictRow['Score']\n",
    "    NYCZipcodeRow = NYCZipcodeSh[NYCZipcodeSh['ZIPCODE'] == PredictZip]\n",
    "    if PredictScore>5:\n",
    "        if NYCZipcodeRow.shape[0]>0:\n",
    "            NYCrecommend = NYCrecommend + 1\n",
    "        else:\n",
    "            nonNYCrecommend = nonNYCrecommend + 1    \n",
    "    "
   ]
  },
  {
   "cell_type": "code",
   "execution_count": 8,
   "metadata": {},
   "outputs": [
    {
     "name": "stdout",
     "output_type": "stream",
     "text": [
      "1703 263 213 153\n"
     ]
    }
   ],
   "source": [
    "print(PredictDf.shape[0], NYCZipcodeSh.shape[0], nonNYCrecommend,NYCrecommend)"
   ]
  },
  {
   "cell_type": "code",
   "execution_count": 11,
   "metadata": {},
   "outputs": [
    {
     "data": {
      "text/plain": [
       "366"
      ]
     },
     "execution_count": 11,
     "metadata": {},
     "output_type": "execute_result"
    }
   ],
   "source": [
    "153 + 213"
   ]
  }
 ],
 "metadata": {
  "kernelspec": {
   "display_name": "Python 3",
   "language": "python",
   "name": "python3"
  },
  "language_info": {
   "codemirror_mode": {
    "name": "ipython",
    "version": 3
   },
   "file_extension": ".py",
   "mimetype": "text/x-python",
   "name": "python",
   "nbconvert_exporter": "python",
   "pygments_lexer": "ipython3",
   "version": "3.5.6"
  }
 },
 "nbformat": 4,
 "nbformat_minor": 2
}
