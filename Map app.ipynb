{
 "cells": [
  {
   "cell_type": "code",
   "execution_count": 120,
   "metadata": {},
   "outputs": [],
   "source": [
    "import plotly.plotly as py\n",
    "import plotly.graph_objs as go\n",
    "import xarray as xr\n",
    "import numpy as np\n",
    "import pandas as pd\n",
    "import holoviews as hv\n",
    "import geoviews as gv\n",
    "import geoviews.feature as gf\n",
    "\n",
    "import cartopy\n",
    "from cartopy import crs as ccrs\n",
    "\n",
    "from bokeh.tile_providers import STAMEN_TONER\n",
    "from bokeh.models import WMTSTileSource\n",
    "from bokeh.io import output_file, show, curdoc\n",
    "from bokeh.layouts import row, column\n",
    "\n",
    "# Latitude and Longitude\n",
    "Latitude = [40.7537, 40.7859, 40.7093, 40.7388, 40.7465]\n",
    "Longitude = [-73.9992, -73.9742, -74.0131, -73.9816, -74.0094]\n",
    "\n",
    "YogaRecommendations = \\\n",
    "  gv.Dataset((Longitude, Latitude), \n",
    "              kdims=['longitude','latitude'],\n",
    "              crs = ccrs.PlateCarree())\n",
    "\n",
    "renderer = hv.renderer('bokeh')\n",
    "renderer.size = 200\n",
    "point_opts = {'Points': { 'style': {\n",
    "                                    'color': 'darkgreen',\n",
    "                                    'alpha':.9,\n",
    "                                    'size': 10}}}\n",
    "\n",
    "overlay_opts = {'Overlay': {'plot': {'bgcolor': 'black'}}}\n",
    "\n",
    "opts = {**point_opts, **overlay_opts}\n",
    "\n",
    "Tile = gv.WMTS(WMTSTileSource(url='https://maps.wikimedia.org/osm-intl/{Z}/{X}/{Y}@2x.png')) \n",
    "Points = YogaRecommendations.to(gv.Points,crs=ccrs.PlateCarree())\n",
    "\n",
    "mapobject = Tile*Points\n",
    "\n",
    "renderer.save(mapobject,'Yogee')\n",
    "doc = renderer.server_doc(mapobject)\n",
    "doc.title = 'Yogee'\n"
   ]
  },
  {
   "cell_type": "code",
   "execution_count": 134,
   "metadata": {},
   "outputs": [
    {
     "name": "stderr",
     "output_type": "stream",
     "text": [
      "INFO:bokeh.io.state:Session output file 'gmap.html' already exists, will be overwritten.\n"
     ]
    }
   ],
   "source": [
    "import pickle\n",
    "from bokeh.io import output_file, show, curdoc\n",
    "from bokeh.models import ColumnDataSource, GMapOptions, TextInput, Button\n",
    "from bokeh.layouts import row, column\n",
    "from bokeh.plotting import gmap\n",
    "from bokeh.layouts import widgetbox\n",
    "\n",
    "\n",
    "#Options\n",
    "mapnum = 0\n",
    "output_file(\"gmap.html\")\n",
    "map_options = GMapOptions(lat=40.7128, lng=-74.0060, map_type=\"roadmap\", zoom=11)\n",
    "#Load Google API key and connect to API\n",
    "f = open('/home/henry/Insight/APIKey/GooglePlacesAPIKey.pckl', 'rb')\n",
    "GoogleAPIKey = pickle.load(f)\n",
    "f.close()\n",
    "\n",
    "#Functions\n",
    "\n",
    "def my_button_handler():\n",
    "    text_input.value = '1'\n",
    "    curdoc().add_root(row(p))\n",
    "\n",
    "\n",
    "#Text Input\n",
    "text_input = TextInput(value=\"10001\", title=\"Zipcode:\")\n",
    "\n",
    "#Search button\n",
    "button = Button(label=\"Find Yoga Studio Location\", button_type=\"success\")\n",
    "button.on_click(my_button_handler)\n",
    "\n",
    "\n",
    "# For GMaps to function, Google requires you obtain and enable an API key:\n",
    "#\n",
    "#     https://developers.google.com/maps/documentation/javascript/get-api-key\n",
    "#\n",
    "# Replace the value below with your personal API key:\n",
    "p = gmap(GoogleAPIKey, map_options, title=\"Yogee\")\n",
    "\n",
    "source = ColumnDataSource(\n",
    "    data=dict(lat=[40.7537, 40.7859, 40.7093, 40.7388, 40.7465],\n",
    "              lon=[-73.9992, -73.9742, -74.0131, -73.9816, -74.0094])\n",
    ")\n",
    "\n",
    "p.circle(x=\"lon\", y=\"lat\", size=10, fill_color=\"purple\", fill_alpha=0.8, source=source)\n",
    "curdoc().add_root(row(text_input))\n",
    "curdoc().add_root(row(button))\n",
    "curdoc().title = \"Yogee\""
   ]
  },
  {
   "cell_type": "code",
   "execution_count": 137,
   "metadata": {},
   "outputs": [
    {
     "data": {
      "text/html": [
       "<div style=\"display: table;\"><div style=\"display: table-row;\"><div style=\"display: table-cell;\"><b title=\"bokeh.models.widgets.buttons.Button\">Button</b>(</div><div style=\"display: table-cell;\">id&nbsp;=&nbsp;'0c7f5060-f31a-4c5b-a191-350da67ebfd0', <span id=\"6e006130-a7c7-4dc3-8905-1afce3714ce9\" style=\"cursor: pointer;\">&hellip;)</span></div></div><div class=\"df3e7761-03e4-4b1b-b5e6-73ee7f5b5e12\" style=\"display: none;\"><div style=\"display: table-cell;\"></div><div style=\"display: table-cell;\">button_type&nbsp;=&nbsp;'success',</div></div><div class=\"df3e7761-03e4-4b1b-b5e6-73ee7f5b5e12\" style=\"display: none;\"><div style=\"display: table-cell;\"></div><div style=\"display: table-cell;\">callback&nbsp;=&nbsp;None,</div></div><div class=\"df3e7761-03e4-4b1b-b5e6-73ee7f5b5e12\" style=\"display: none;\"><div style=\"display: table-cell;\"></div><div style=\"display: table-cell;\">clicks&nbsp;=&nbsp;0,</div></div><div class=\"df3e7761-03e4-4b1b-b5e6-73ee7f5b5e12\" style=\"display: none;\"><div style=\"display: table-cell;\"></div><div style=\"display: table-cell;\">css_classes&nbsp;=&nbsp;[],</div></div><div class=\"df3e7761-03e4-4b1b-b5e6-73ee7f5b5e12\" style=\"display: none;\"><div style=\"display: table-cell;\"></div><div style=\"display: table-cell;\">disabled&nbsp;=&nbsp;False,</div></div><div class=\"df3e7761-03e4-4b1b-b5e6-73ee7f5b5e12\" style=\"display: none;\"><div style=\"display: table-cell;\"></div><div style=\"display: table-cell;\">height&nbsp;=&nbsp;None,</div></div><div class=\"df3e7761-03e4-4b1b-b5e6-73ee7f5b5e12\" style=\"display: none;\"><div style=\"display: table-cell;\"></div><div style=\"display: table-cell;\">icon&nbsp;=&nbsp;None,</div></div><div class=\"df3e7761-03e4-4b1b-b5e6-73ee7f5b5e12\" style=\"display: none;\"><div style=\"display: table-cell;\"></div><div style=\"display: table-cell;\">js_event_callbacks&nbsp;=&nbsp;{},</div></div><div class=\"df3e7761-03e4-4b1b-b5e6-73ee7f5b5e12\" style=\"display: none;\"><div style=\"display: table-cell;\"></div><div style=\"display: table-cell;\">js_property_callbacks&nbsp;=&nbsp;{},</div></div><div class=\"df3e7761-03e4-4b1b-b5e6-73ee7f5b5e12\" style=\"display: none;\"><div style=\"display: table-cell;\"></div><div style=\"display: table-cell;\">label&nbsp;=&nbsp;'Find Yoga Studio Location',</div></div><div class=\"df3e7761-03e4-4b1b-b5e6-73ee7f5b5e12\" style=\"display: none;\"><div style=\"display: table-cell;\"></div><div style=\"display: table-cell;\">name&nbsp;=&nbsp;None,</div></div><div class=\"df3e7761-03e4-4b1b-b5e6-73ee7f5b5e12\" style=\"display: none;\"><div style=\"display: table-cell;\"></div><div style=\"display: table-cell;\">sizing_mode&nbsp;=&nbsp;'fixed',</div></div><div class=\"df3e7761-03e4-4b1b-b5e6-73ee7f5b5e12\" style=\"display: none;\"><div style=\"display: table-cell;\"></div><div style=\"display: table-cell;\">subscribed_events&nbsp;=&nbsp;[],</div></div><div class=\"df3e7761-03e4-4b1b-b5e6-73ee7f5b5e12\" style=\"display: none;\"><div style=\"display: table-cell;\"></div><div style=\"display: table-cell;\">tags&nbsp;=&nbsp;[],</div></div><div class=\"df3e7761-03e4-4b1b-b5e6-73ee7f5b5e12\" style=\"display: none;\"><div style=\"display: table-cell;\"></div><div style=\"display: table-cell;\">width&nbsp;=&nbsp;None)</div></div></div>\n",
       "<script>\n",
       "(function() {\n",
       "  var expanded = false;\n",
       "  var ellipsis = document.getElementById(\"6e006130-a7c7-4dc3-8905-1afce3714ce9\");\n",
       "  ellipsis.addEventListener(\"click\", function() {\n",
       "    var rows = document.getElementsByClassName(\"df3e7761-03e4-4b1b-b5e6-73ee7f5b5e12\");\n",
       "    for (var i = 0; i < rows.length; i++) {\n",
       "      var el = rows[i];\n",
       "      el.style.display = expanded ? \"none\" : \"table-row\";\n",
       "    }\n",
       "    ellipsis.innerHTML = expanded ? \"&hellip;)\" : \"&lsaquo;&lsaquo;&lsaquo;\";\n",
       "    expanded = !expanded;\n",
       "  });\n",
       "})();\n",
       "</script>\n"
      ],
      "text/plain": [
       "bokeh.models.widgets.buttons.Button(\n",
       "    id='0c7f5060-f31a-4c5b-a191-350da67ebfd0',\n",
       "    button_type='success',\n",
       "    callback=None,\n",
       "    clicks=0,\n",
       "    css_classes=[],\n",
       "    disabled=False,\n",
       "    height=None,\n",
       "    icon=None,\n",
       "    js_event_callbacks={},\n",
       "    js_property_callbacks={},\n",
       "    label='Find Yoga Studio Location',\n",
       "    name=None,\n",
       "    sizing_mode='fixed',\n",
       "    subscribed_events=[],\n",
       "    tags=[],\n",
       "    width=None)"
      ]
     },
     "execution_count": 137,
     "metadata": {},
     "output_type": "execute_result"
    }
   ],
   "source": [
    "button"
   ]
  }
 ],
 "metadata": {
  "kernelspec": {
   "display_name": "Python 3",
   "language": "python",
   "name": "python3"
  },
  "language_info": {
   "codemirror_mode": {
    "name": "ipython",
    "version": 3
   },
   "file_extension": ".py",
   "mimetype": "text/x-python",
   "name": "python",
   "nbconvert_exporter": "python",
   "pygments_lexer": "ipython3",
   "version": "3.6.6"
  }
 },
 "nbformat": 4,
 "nbformat_minor": 2
}
