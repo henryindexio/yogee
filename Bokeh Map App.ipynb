{
 "cells": [
  {
   "cell_type": "code",
   "execution_count": 2,
   "metadata": {},
   "outputs": [],
   "source": [
    "import pickle\n",
    "import os\n",
    "import pandas as pd\n",
    "from bokeh.io import output_file, show, curdoc, output_notebook\n",
    "from bokeh.models import ColumnDataSource, GMapOptions, TextInput, Button\n",
    "from bokeh.layouts import row, column\n",
    "from bokeh.plotting import gmap\n",
    "from bokeh.layouts import widgetbox\n",
    "\n",
    "#Options\n",
    "mapnum = 0\n",
    "map_options = GMapOptions(lat=40.7128, lng=-74.0060, map_type=\"roadmap\", zoom=11)\n",
    "\n",
    "#load google API key\n",
    "f = open('/home/henry/Insight/APIKey/GooglePlacesAPIKey.pckl', 'rb')\n",
    "GoogleAPIKey = pickle.load(f)\n",
    "f.close()\n",
    "\n",
    "\n",
    "#Load zip code data frame data\n",
    "\n",
    "f = open('/home/henry/Downloads/YogaMap/ZipcodeDistanceDf.pckl', 'rb')\n",
    "ZipcodeDistanceDf = pickle.load(f)\n",
    "f.close()\n",
    "\n",
    "#Functions\n",
    "\n",
    "def my_button_handler():\n",
    "    text_input.value = \"22222\"\n",
    "    #curdoc().add_root(column2)\n",
    "\n",
    "#Text Input\n",
    "text_input = TextInput(value=\"10001\", title=\"Zipcode:\")\n",
    "\n",
    "#Search button\n",
    "button = Button(label=\"Find Yoga Studio Location\", button_type=\"success\")\n",
    "button.on_click(my_button_handler)\n",
    "\n",
    "#column 1\n",
    "column1 = column([text_input] + [button])\n",
    "\n",
    "# For GMaps to function, Google requires you obtain and enable an API key:\n",
    "#\n",
    "#     https://developers.google.com/maps/documentation/javascript/get-api-key\n",
    "#\n",
    "# Replace the value below with your personal API key:\n",
    "p = gmap(GoogleAPIKey, map_options, title=\"Yogee\")\n",
    "\n",
    "source = ColumnDataSource(\n",
    "    data=dict(lat=[40.7537, 40.7859, 40.7093, 40.7388, 40.7465],\n",
    "              lon=[-73.9992, -73.9742, -74.0131, -73.9816, -74.0094])\n",
    ")\n",
    "\n",
    "p.circle(x=\"lon\", y=\"lat\", size=15, fill_color=\"purple\", fill_alpha=0.8, source=source)\n",
    "\n",
    "#column 2\n",
    "column2 = column([p])\n",
    "\n",
    "curdoc().add_root(column1)\n",
    "curdoc().title = \"Yogee\"\n",
    "show(column1)"
   ]
  },
  {
   "cell_type": "code",
   "execution_count": 15,
   "metadata": {},
   "outputs": [
    {
     "data": {
      "text/plain": [
       "'10009'"
      ]
     },
     "execution_count": 15,
     "metadata": {},
     "output_type": "execute_result"
    }
   ],
   "source": [
    "str(ZipcodeDistanceDf.iloc[8,0])"
   ]
  },
  {
   "cell_type": "code",
   "execution_count": 4,
   "metadata": {},
   "outputs": [],
   "source": []
  },
  {
   "cell_type": "code",
   "execution_count": 4,
   "metadata": {},
   "outputs": [
    {
     "data": {
      "text/plain": [
       "list"
      ]
     },
     "execution_count": 4,
     "metadata": {},
     "output_type": "execute_result"
    }
   ],
   "source": [
    "import numpy as np\n",
    "ScoreRecommend = [np.float(1.2312),np.float(1.2312),np.float(3.2312),np.float(4.2312),np.float(5.2312)]\n",
    "ScoreRounded = np.round(np.asarray(ScoreRecommend)*100)/100\n",
    "ScoreRounded = ScoreRounded.tolist()\n",
    "type(ScoreRecommend)"
   ]
  }
 ],
 "metadata": {
  "kernelspec": {
   "display_name": "Python 3",
   "language": "python",
   "name": "python3"
  },
  "language_info": {
   "codemirror_mode": {
    "name": "ipython",
    "version": 3
   },
   "file_extension": ".py",
   "mimetype": "text/x-python",
   "name": "python",
   "nbconvert_exporter": "python",
   "pygments_lexer": "ipython3",
   "version": "3.6.5"
  }
 },
 "nbformat": 4,
 "nbformat_minor": 2
}
