{
 "cells": [
  {
   "cell_type": "code",
   "execution_count": 2,
   "metadata": {},
   "outputs": [],
   "source": [
    "from yelpapi import YelpAPI\n",
    "import numpy as np\n",
    "import pandas as pd\n",
    "import time\n",
    "import pickle\n"
   ]
  },
  {
   "cell_type": "code",
   "execution_count": 3,
   "metadata": {},
   "outputs": [],
   "source": [
    "#Load Yelp API key and connect to API\n",
    "\n",
    "f = open('/home/henry/Insight/APIKey/YelpAPIKey.pckl', 'rb')\n",
    "YelpAPIKey = pickle.load(f)\n",
    "f.close()\n",
    "yelpapi = YelpAPI(YelpAPIKey, timeout_s=3.0)\n"
   ]
  },
  {
   "cell_type": "code",
   "execution_count": 40,
   "metadata": {},
   "outputs": [],
   "source": [
    "LandAreaFileLoc = \"/home/henry/Insight/Yogee/Datasets/NY_Land_Area/NY_Land_Area.csv\"\n",
    "LandAreaDf = pd.read_csv(LandAreaFileLoc)"
   ]
  },
  {
   "cell_type": "code",
   "execution_count": 43,
   "metadata": {},
   "outputs": [],
   "source": [
    "Zipcodes = LandAreaDf['GEO.id2']\n",
    "SearchTerm = 'yoga'\n",
    "SeachSort_by = 'distance'\n",
    "SearchLimit = 50\n",
    "SearchOffset = 0\n",
    "YogaYelpRawDf = pd.DataFrame()\n"
   ]
  },
  {
   "cell_type": "code",
   "execution_count": 75,
   "metadata": {},
   "outputs": [],
   "source": [
    "for i in range(0,np.size(Zipcodes)):\n",
    "    SearchLocation = format(Zipcodes[i],'05d')\n",
    "    SearchResults = yelpapi.search_query(term=SearchTerm, location=SearchLocation, sortby=SeachSort_by, limit=SearchLimit, offset=SearchOffset)\n",
    "    time.sleep(.2)\n",
    "    SearchDf = pd.DataFrame(SearchResults['businesses'])\n",
    "    YogaYelpRawDf = pd.concat([YogaYelpDf, SearchDf],sort=False,ignore_index=True)"
   ]
  },
  {
   "cell_type": "code",
   "execution_count": 80,
   "metadata": {},
   "outputs": [],
   "source": [
    "import pickle\n",
    "\n",
    "f = open('/home/henry/Insight/Yogee/Datasets/Yelp_NY_Yoga_Studios_dataset/YogaYelpDfRAW.pckl', 'wb')\n",
    "pickle.dump(YogaYelpRawDf, f)\n",
    "f.close()"
   ]
  },
  {
   "cell_type": "code",
   "execution_count": 90,
   "metadata": {},
   "outputs": [],
   "source": [
    "import pickle\n",
    "\n",
    "f = open('/home/henry/Insight/Yogee/Datasets/Yelp_NY_Yoga_Studios_dataset/YogaYelpDfRAW.pckl', 'rb')\n",
    "YogaYelpRawDf = pickle.load(f)\n",
    "f.close()"
   ]
  },
  {
   "cell_type": "code",
   "execution_count": 108,
   "metadata": {},
   "outputs": [],
   "source": [
    "# Drop duplicate stores\n",
    "\n",
    "YogaReducedDf = YogaYelpRawDf.drop_duplicates(subset = 'id')"
   ]
  },
  {
   "cell_type": "code",
   "execution_count": 122,
   "metadata": {},
   "outputs": [],
   "source": [
    "# Remove stores that do not have \"yoga\" in category\n",
    "\n",
    "NotYoga = np.zeros(np.shape(YogaReducedDf)[0])\n",
    "IndNotYoga = 0\n",
    "\n",
    "for i in range(0,np.shape(YogaReducedDf)[0]):\n",
    "    \n",
    "    # Yoga category\n",
    "    YogaCategory = False\n",
    "    j = 0\n",
    "    Categories = YogaReducedDf.iloc[i]['categories']\n",
    "    while (not YogaCategory) and (j<len(Categories)):        \n",
    "        alias = Categories[j]['alias']\n",
    "        if alias == 'yoga':\n",
    "            YogaCategory = True\n",
    "        j = j + 1\n",
    "        \n",
    "    # Store location\n",
    "    Address = YogaReducedDf.iloc[i]['location']\n",
    "    State = Address['state']\n",
    "    \n",
    "    # Drop store index\n",
    "    if (YogaCategory == False) or not(State == 'NY'):\n",
    "        NotYoga[IndNotYoga] = YogaReducedDf.index[i]\n",
    "        IndNotYoga = IndNotYoga + 1\n",
    "        \n",
    "NotYoga = pd.Int64Index(NotYoga[:IndNotYoga])\n",
    "YogaYelpDf = YogaReducedDf.drop(NotYoga)\n",
    "# Reindex Yoga studios dataframe\n",
    "\n",
    "YogaYelpDf.index = pd.Int64Index(np.arange(0,np.shape(YogaYelpDf)[0]))"
   ]
  },
  {
   "cell_type": "code",
   "execution_count": 123,
   "metadata": {},
   "outputs": [],
   "source": [
    "#Write Yelp yoga dataset to file\n",
    "import pickle\n",
    "\n",
    "f = open('/home/henry/Insight/Yogee/Datasets/Yelp_NY_Yoga_Studios_dataset/YogaYelpDf.pckl', 'wb')\n",
    "pickle.dump(YogaYelpDf, f)\n",
    "f.close()\n",
    "\n"
   ]
  },
  {
   "cell_type": "code",
   "execution_count": 129,
   "metadata": {},
   "outputs": [],
   "source": [
    "# count studio number\n",
    "NYcount = 0\n",
    "NJcount = 0\n",
    "PAcount = 0\n",
    "VTcount = 0\n",
    "MAcount = 0\n",
    "CTcount = 0\n",
    "States = []\n",
    "for i in range(0,np.shape(YogaYelpDf)[0]):\n",
    "    # Store location\n",
    "    Address = YogaYelpDf.iloc[i]['location']\n",
    "    State = Address['state']\n",
    "    States.append(State)\n",
    "    if State == 'NY':\n",
    "        NYcount = NYcount + 1\n",
    "    elif State == 'NJ':\n",
    "        NJcount = NJcount + 1\n",
    "    elif State == 'PA':\n",
    "        PAcount = PAcount + 1\n",
    "    elif State == 'VT':\n",
    "        VTcount = VTcount + 1\n",
    "    elif State == 'MA':\n",
    "        MAcount = MAcount + 1\n",
    "    elif State == 'CT':\n",
    "        CTcount = CTcount + 1\n",
    "\n"
   ]
  },
  {
   "cell_type": "code",
   "execution_count": 130,
   "metadata": {},
   "outputs": [
    {
     "data": {
      "text/plain": [
       "1229"
      ]
     },
     "execution_count": 130,
     "metadata": {},
     "output_type": "execute_result"
    }
   ],
   "source": [
    "NYcount"
   ]
  }
 ],
 "metadata": {
  "kernelspec": {
   "display_name": "Python 3",
   "language": "python",
   "name": "python3"
  },
  "language_info": {
   "codemirror_mode": {
    "name": "ipython",
    "version": 3
   },
   "file_extension": ".py",
   "mimetype": "text/x-python",
   "name": "python",
   "nbconvert_exporter": "python",
   "pygments_lexer": "ipython3",
   "version": "3.6.5"
  }
 },
 "nbformat": 4,
 "nbformat_minor": 2
}
