{
 "cells": [
  {
   "cell_type": "code",
   "execution_count": 114,
   "metadata": {},
   "outputs": [],
   "source": [
    "import numpy as np\n",
    "import pandas as pd\n",
    "import time\n",
    "import pickle"
   ]
  },
  {
   "cell_type": "code",
   "execution_count": 115,
   "metadata": {},
   "outputs": [],
   "source": [
    "#Load yoga studio data\n",
    "f = open('/home/henry/Insight/Yogee/Datasets/Yelp_NY_Yoga_Studios_dataset/YogaDf.pckl', 'rb')\n",
    "YogaDf = pickle.load(f)\n",
    "f.close()"
   ]
  },
  {
   "cell_type": "code",
   "execution_count": 116,
   "metadata": {},
   "outputs": [],
   "source": [
    "#Initialize name, zip codes and start year columns to model dataframe\n",
    "NanDfValues = np.zeros([np.shape(YogaDf)[0],3])\n",
    "NanDfValues[:] = np.nan\n",
    "StartYearDf = pd.DataFrame(NanDfValues,columns=['name','zip','startyear'])"
   ]
  },
  {
   "cell_type": "code",
   "execution_count": 117,
   "metadata": {},
   "outputs": [],
   "source": [
    "#Add name, zip codes and start year data to startyear dataframe\n",
    "\n",
    "for i in range(0,np.shape(YogaDf)[0]):\n",
    "    StartYearDf.loc[i,'name'] = YogaDf.loc[i,'name']\n",
    "    address = YogaDf.loc[i,'location']\n",
    "    zipcode = address['zip_code']\n",
    "    if zipcode:        \n",
    "        StartYearDf.loc[i,'zip'] = np.int64(zipcode)\n",
    "    dos = YogaDf.loc[i,'initial_dos_filing_date']\n",
    "    if isinstance(dos,str):\n",
    "        dos = dos.replace('T00:00:00.000','')\n",
    "        startyear = dos[0:4]\n",
    "        StartYearDf.loc[i,'startyear'] = np.int64(startyear)\n"
   ]
  },
  {
   "cell_type": "code",
   "execution_count": 94,
   "metadata": {},
   "outputs": [],
   "source": [
    "#Load demographics dataframe\n",
    "import pickle\n",
    "\n",
    "f = open('/home/henry/Insight/Yogee/Datasets/Demographics_dataset/DemographicsDf.pckl', 'rb')\n",
    "DemographicsDf = pickle.load(f)\n",
    "f.close()"
   ]
  },
  {
   "cell_type": "code",
   "execution_count": 95,
   "metadata": {},
   "outputs": [],
   "source": [
    "#Add empty 2017 dataframe to demographics\n",
    "\n",
    "#Load population dataset\n",
    "Population2011FileLoc = \"/home/henry/Insight/Yogee/Datasets/NY_Population_dataset/ACS_11_5YR_B01003/ACS_11_5YR_B01003_with_ann.csv\"\n",
    "Population2011Df = pd.read_csv(Population2011FileLoc)\n",
    "\n",
    "#Get zipcodes to use\n",
    "zipcodes = Population2011Df.loc[:,'GEO.id2']\n",
    "\n",
    "#Initialize nan raws to demographics dataframe\n",
    "NanDfValues = np.zeros([np.shape(zipcodes)[0],np.shape(DemographicsDf)[1]])\n",
    "NanDfValues[:] = np.nan\n",
    "NanDf = pd.DataFrame(NanDfValues,columns=list(DemographicsDf))\n",
    "\n",
    "#Add to demographics dataframe\n",
    "DemographicsDf =  pd.concat([DemographicsDf, NanDf], axis=0)\n",
    "\n",
    "for i in range(0,np.shape(zipcodes)[0]):\n",
    "    index = i + np.shape(zipcodes)[0]*6\n",
    "    DemographicsDf.iloc[index,0] = zipcodes[i]\n",
    "    DemographicsDf.iloc[index,1] = 2017\n",
    "DemographicsDf = DemographicsDf.reset_index(drop=True)\n"
   ]
  },
  {
   "cell_type": "code",
   "execution_count": 96,
   "metadata": {},
   "outputs": [],
   "source": [
    "#Create model dataframe\n",
    "\n",
    "#Initialize female ratio column to demographics dataframe\n",
    "ZerosDfValues = np.zeros([np.shape(DemographicsDf)[0],4])\n",
    "ZerosDf = pd.DataFrame(ZerosDfValues,columns=['NewStudio','TotalStudio','NewStudioNextYear','NewStudioNextYearBin'])\n",
    "\n",
    "#Add to model dataframe\n",
    "ModelDf =  pd.concat([DemographicsDf, ZerosDf], axis=1)"
   ]
  },
  {
   "cell_type": "code",
   "execution_count": 97,
   "metadata": {
    "scrolled": true
   },
   "outputs": [],
   "source": [
    "#Add new studio number\n",
    "for i in range(0,StartYearDf.shape[0]):\n",
    "    StartYear = StartYearDf.iloc[i,2]\n",
    "    Zipcode = StartYearDf.iloc[i,1]\n",
    "    if any(zipcodes == Zipcode) and (not np.isnan(StartYear)) and (StartYear >= 2011) and (StartYear <= 2017):\n",
    "        #Add NewStudio value\n",
    "        ModelRow = ModelDf[(ModelDf['year'] == StartYear) & (ModelDf['zip'] == Zipcode)]\n",
    "        ModelRowIndex = ModelRow.index.values[0]\n",
    "        ModelDf.iloc[ModelRowIndex,7] = ModelDf.iloc[ModelRowIndex,7] + 1\n",
    "        \n",
    "        #Add NewStudioNextYear value, this is the target\n",
    "        if (StartYear >= 2012) and (StartYear <= 2017):\n",
    "            PreviousYear = StartYear-1\n",
    "            ModelRow = ModelDf[(ModelDf['year'] == PreviousYear) & (ModelDf['zip'] == Zipcode)]\n",
    "            ModelRowIndex = ModelRow.index.values[0]\n",
    "            ModelDf.iloc[ModelRowIndex,9] = ModelDf.iloc[ModelRowIndex,9] + 1"
   ]
  },
  {
   "cell_type": "code",
   "execution_count": 98,
   "metadata": {},
   "outputs": [],
   "source": [
    "#reindex model dataframe\n",
    "ModelDf = ModelDf.sort_values(by=['zip','year'], ascending=True)\n",
    "ModelDf = ModelDf.reset_index(drop=True)"
   ]
  },
  {
   "cell_type": "code",
   "execution_count": 99,
   "metadata": {},
   "outputs": [],
   "source": [
    "#Add NewStudioNextYear values\n",
    "for i in range(0,StartYearDf.shape[0]):\n",
    "    StartYear = StartYearDf.iloc[i,2]\n",
    "    Zipcode = StartYearDf.iloc[i,1]\n",
    "    if any(zipcodes == Zipcode) and (not np.isnan(StartYear)) and (StartYear >= 2011) and (StartYear <= 2017):\n",
    "        #Add to total studio value\n",
    "        ModelRow = ModelDf[(ModelDf['year'] == StartYear) & (ModelDf['zip'] == Zipcode)]\n",
    "        ModelRowIndex = np.int64(ModelRow.index.values[0])\n",
    "        YearRange = np.int64(2017 - StartYear + 1)\n",
    "        ModelDf.iloc[ModelRowIndex:ModelRowIndex+YearRange,8] = ModelDf.iloc[ModelRowIndex:ModelRowIndex+YearRange,8] + 1"
   ]
  },
  {
   "cell_type": "code",
   "execution_count": 100,
   "metadata": {},
   "outputs": [],
   "source": [
    "#Add NewStudioNextYearBin values\n",
    "ModelDf = ModelDf.assign(NewStudioNextYearBin=ModelDf.NewStudioNextYear.gt(0) * 1)"
   ]
  },
  {
   "cell_type": "code",
   "execution_count": 101,
   "metadata": {},
   "outputs": [],
   "source": [
    "#Initialize difference columns\n",
    "NanDfValues = np.zeros([np.shape(DemographicsDf)[0],4])\n",
    "NanDfValues[:] = np.nan\n",
    "NanDf = pd.DataFrame(NanDfValues,\n",
    "                     columns=['populationDifference','FemaleRatioDifference','IncomeDifference','PopDensityDifference'])\n",
    "ModelDf = pd.concat([ModelDf, NanDf], axis=1, sort=False)\n",
    "\n",
    "for i in range(0,np.shape(ModelDf)[0]):\n",
    "    year = ModelDf.loc[i,'year']\n",
    "    zipcode = ModelDf.loc[i,'zip']\n",
    "    if (year>=2012) and (year<=2016):\n",
    "        PreviousRow = ModelDf[(ModelDf['year'] == (year-1)) & (ModelDf['zip'] == zipcode)]\n",
    "        #population difference\n",
    "        CurrentPopulation = ModelDf.loc[i,'population']        \n",
    "        PreviousPopulation = PreviousRow['population'].iloc[0]\n",
    "        PopulationDifference = CurrentPopulation - PreviousPopulation\n",
    "        ModelDf.loc[i,'populationDifference'] = PopulationDifference\n",
    "        #FemaleRatio difference\n",
    "        CurrentFemaleRatio = ModelDf.loc[i,'FemaleRatio'] \n",
    "        PreviousFemaleRatio = PreviousRow['FemaleRatio'].iloc[0]\n",
    "        FemaleRatioDifference = CurrentFemaleRatio - PreviousFemaleRatio\n",
    "        ModelDf.loc[i,'FemaleRatioDifference'] = FemaleRatioDifference\n",
    "        #Income difference\n",
    "        if (not ModelDf['Income'].isnull()[i]) and (not PreviousRow['Income'].isnull().iloc[0]):\n",
    "            CurrentIncome = ModelDf.loc[i,'Income'] \n",
    "            PreviousIncome = PreviousRow['Income'].iloc[0]\n",
    "            IncomeDifference = np.int64(CurrentIncome) - np.int64(PreviousIncome)\n",
    "            ModelDf.loc[i,'IncomeDifference'] = IncomeDifference\n",
    "        #PopDensity difference\n",
    "        CurrentPopDensity = ModelDf.loc[i,'PopDensity'] \n",
    "        PreviousPopDensity = PreviousRow['PopDensity'].iloc[0]\n",
    "        PopDensityDifference = CurrentPopDensity - PreviousPopDensity\n",
    "        ModelDf.loc[i,'PopDensityDifference'] = PopDensityDifference\n",
    "    "
   ]
  },
  {
   "cell_type": "code",
   "execution_count": 102,
   "metadata": {},
   "outputs": [],
   "source": [
    "import pickle\n",
    "\n",
    "f = open('/home/henry/Insight/Yogee/Datasets/Model_dataset/ModelDf.pckl', 'wb')\n",
    "pickle.dump(ModelDf, f)\n",
    "f.close()"
   ]
  }
 ],
 "metadata": {
  "kernelspec": {
   "display_name": "Python 3",
   "language": "python",
   "name": "python3"
  },
  "language_info": {
   "codemirror_mode": {
    "name": "ipython",
    "version": 3
   },
   "file_extension": ".py",
   "mimetype": "text/x-python",
   "name": "python",
   "nbconvert_exporter": "python",
   "pygments_lexer": "ipython3",
   "version": "3.5.6"
  }
 },
 "nbformat": 4,
 "nbformat_minor": 2
}
