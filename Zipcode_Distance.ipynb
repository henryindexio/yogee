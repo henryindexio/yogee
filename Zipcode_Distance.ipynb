{
 "cells": [
  {
   "cell_type": "code",
   "execution_count": 16,
   "metadata": {},
   "outputs": [],
   "source": [
    "import numpy as np\n",
    "import pandas as pd\n",
    "import time\n",
    "import pickle"
   ]
  },
  {
   "cell_type": "code",
   "execution_count": 14,
   "metadata": {},
   "outputs": [],
   "source": [
    "#Load landarea dataset\n",
    "LandAreaFileLoc = \"/home/henry/Insight/Yogee/Datasets/NY_Land_Area/NY_Land_Area.csv\"\n",
    "LandAreaDf = pd.read_csv(LandAreaFileLoc)"
   ]
  },
  {
   "cell_type": "code",
   "execution_count": 15,
   "metadata": {},
   "outputs": [],
   "source": [
    "#Get zipcode, latitude and longitude data\n",
    "NYZipcodeDistanceDf = LandAreaDf.loc[:,['GEO.id2','Latitude','Longitude']]\n"
   ]
  },
  {
   "cell_type": "code",
   "execution_count": 36,
   "metadata": {},
   "outputs": [],
   "source": [
    "import pickle\n",
    "\n",
    "f = open('/home/henry/Downloads/YogaMap/ZipcodeDistanceDf.pckl', 'wb')\n",
    "pickle.dump(ZipcodeDistanceDf, f)\n",
    "f.close()"
   ]
  },
  {
   "cell_type": "code",
   "execution_count": 22,
   "metadata": {},
   "outputs": [],
   "source": [
    "from math import radians, cos, sin, asin, sqrt\n",
    "def haversine(lon1, lat1, lon2, lat2):\n",
    "    \"\"\"\n",
    "    Calculate the great circle distance between two points \n",
    "    on the earth (specified in decimal degrees)\n",
    "    \"\"\"\n",
    "    # convert decimal degrees to radians \n",
    "    lon1, lat1, lon2, lat2 = map(radians, [lon1, lat1, lon2, lat2])\n",
    "    # haversine formula \n",
    "    dlon = lon2 - lon1 \n",
    "    dlat = lat2 - lat1 \n",
    "    a = sin(dlat/2)**2 + cos(lat1) * cos(lat2) * sin(dlon/2)**2\n",
    "    c = 2 * asin(sqrt(a)) \n",
    "    # Radius of earth in kilometers is 6371\n",
    "    km = 6371* c\n",
    "    mile = 0.621371 * km\n",
    "    return mile"
   ]
  },
  {
   "cell_type": "code",
   "execution_count": null,
   "metadata": {},
   "outputs": [],
   "source": [
    "from math import radians, cos, sin, asin, sqrt\n",
    "def haversine(lon1, lat1, lon2, lat2):\n",
    "    \"\"\"\n",
    "    Calculate the great circle distance between two points \n",
    "    on the earth (specified in decimal degrees)\n",
    "    \"\"\"\n",
    "    # convert decimal degrees to radians \n",
    "    lon1, lat1, lon2, lat2 = map(radians, [lon1, lat1, lon2, lat2])\n",
    "    # haversine formula \n",
    "    dlon = lon2 - lon1 \n",
    "    dlat = lat2 - lat1 \n",
    "    a = sin(dlat/2)**2 + cos(lat1) * cos(lat2) * sin(dlon/2)**2\n",
    "    c = 2 * asin(sqrt(a)) \n",
    "    # Radius of earth in kilometers is 6371\n",
    "    km = 6371* c\n",
    "    mile = 0.621371 * km\n",
    "    return mile"
   ]
  },
  {
   "cell_type": "code",
   "execution_count": 124,
   "metadata": {},
   "outputs": [],
   "source": [
    "def closestzipcode(Lon1,Lat1,ZipcodeDistanceDf):\n",
    "    LonArray = np.float64(ZipcodeDistanceDf.loc[:,'Longitude'])\n",
    "    LatArray = np.float64(ZipcodeDistanceDf.loc[:,'Latitude'])\n",
    "    Lon1Radian = np.ones(np.size(LonArray))*(Lon1*(np.pi/180))\n",
    "    Lat1Radian = np.ones(np.size(LatArray))*(Lat1*(np.pi/180))\n",
    "    LonRadian = LonArray*(np.pi/180)\n",
    "    LatRadian = LatArray*(np.pi/180)\n",
    "    # haversine formula \n",
    "    DiffLon = LonRadian - Lon1Radian\n",
    "    DiffLat = LatRadian - Lat1Radian\n",
    "    a = np.square(np.sin(DiffLat/2)) + np.multiply(np.multiply(np.cos(Lat1Radian),np.cos(LatRadian)), np.square(np.sin(DiffLon/2)))\n",
    "    c = 2 * np.arcsin(np.sqrt(a))\n",
    "    # Radius of earth in kilometers is 6371\n",
    "    km = 6371* c\n",
    "    mile = 0.621371 * km\n",
    "    DistanceDF = pd.DataFrame(mile,columns=['Distance'])\n",
    "    ZipcodeDistanceDf = pd.concat([ZipcodeDistanceDf, DistanceDF], axis=1, sort=False)\n",
    "    ZipcodeDistanceDf = ZipcodeDistanceDf.sort_values('Distance', ascending=True)\n",
    "    return ZipcodeDistanceDf\n"
   ]
  },
  {
   "cell_type": "code",
   "execution_count": 120,
   "metadata": {},
   "outputs": [],
   "source": [
    "def closestzipcode(lon,lat,ZipcodeDistanceDf):\n",
    "    NanDfValues = np.zeros([np.shape(ZipcodeDistanceDf)[0],1])\n",
    "    NanDfValues[:] = np.nan\n",
    "    NanDf = pd.DataFrame(NanDfValues,columns=['Distance'])\n",
    "    ZipcodeDistanceDf = pd.concat([ZipcodeDistanceDf, NanDf], axis=1, sort=False)\n",
    "    for i in range(0,np.shape(ZipcodeDistanceDf)[0]):\n",
    "        ziplon = ZipcodeDistanceDf.loc[i,'Longitude']\n",
    "        ziplat = ZipcodeDistanceDf.loc[i,'Latitude']\n",
    "        distance = haversine(lon, lat, ziplon, ziplat)\n",
    "        ZipcodeDistanceDf.loc[i,'Distance'] = distance\n",
    "        ZipcodeDistanceDf = ZipcodeDistanceDf.sort_values('Distance', ascending=True)\n",
    "    return ZipcodeDistanceDf\n"
   ]
  },
  {
   "cell_type": "code",
   "execution_count": 125,
   "metadata": {},
   "outputs": [
    {
     "data": {
      "text/html": [
       "<div>\n",
       "<style scoped>\n",
       "    .dataframe tbody tr th:only-of-type {\n",
       "        vertical-align: middle;\n",
       "    }\n",
       "\n",
       "    .dataframe tbody tr th {\n",
       "        vertical-align: top;\n",
       "    }\n",
       "\n",
       "    .dataframe thead th {\n",
       "        text-align: right;\n",
       "    }\n",
       "</style>\n",
       "<table border=\"1\" class=\"dataframe\">\n",
       "  <thead>\n",
       "    <tr style=\"text-align: right;\">\n",
       "      <th></th>\n",
       "      <th>GEO.id2</th>\n",
       "      <th>Latitude</th>\n",
       "      <th>Longitude</th>\n",
       "      <th>Distance</th>\n",
       "    </tr>\n",
       "  </thead>\n",
       "  <tbody>\n",
       "    <tr>\n",
       "      <th>1</th>\n",
       "      <td>10001</td>\n",
       "      <td>40.750672</td>\n",
       "      <td>-73.997281</td>\n",
       "      <td>4.395101e-13</td>\n",
       "    </tr>\n",
       "    <tr>\n",
       "      <th>64</th>\n",
       "      <td>10199</td>\n",
       "      <td>40.751393</td>\n",
       "      <td>-73.997229</td>\n",
       "      <td>4.986269e-02</td>\n",
       "    </tr>\n",
       "    <tr>\n",
       "      <th>48</th>\n",
       "      <td>10119</td>\n",
       "      <td>40.750310</td>\n",
       "      <td>-73.992979</td>\n",
       "      <td>2.265629e-01</td>\n",
       "    </tr>\n",
       "    <tr>\n",
       "      <th>16</th>\n",
       "      <td>10018</td>\n",
       "      <td>40.755329</td>\n",
       "      <td>-73.993127</td>\n",
       "      <td>3.883493e-01</td>\n",
       "    </tr>\n",
       "    <tr>\n",
       "      <th>10</th>\n",
       "      <td>10011</td>\n",
       "      <td>40.742002</td>\n",
       "      <td>-74.000594</td>\n",
       "      <td>6.236593e-01</td>\n",
       "    </tr>\n",
       "    <tr>\n",
       "      <th>34</th>\n",
       "      <td>10036</td>\n",
       "      <td>40.759280</td>\n",
       "      <td>-73.989909</td>\n",
       "      <td>7.089540e-01</td>\n",
       "    </tr>\n",
       "    <tr>\n",
       "      <th>44</th>\n",
       "      <td>10110</td>\n",
       "      <td>40.754499</td>\n",
       "      <td>-73.982256</td>\n",
       "      <td>8.296428e-01</td>\n",
       "    </tr>\n",
       "    <tr>\n",
       "      <th>61</th>\n",
       "      <td>10173</td>\n",
       "      <td>40.754131</td>\n",
       "      <td>-73.979364</td>\n",
       "      <td>9.677624e-01</td>\n",
       "    </tr>\n",
       "    <tr>\n",
       "      <th>54</th>\n",
       "      <td>10165</td>\n",
       "      <td>40.752131</td>\n",
       "      <td>-73.978722</td>\n",
       "      <td>9.765976e-01</td>\n",
       "    </tr>\n",
       "    <tr>\n",
       "      <th>56</th>\n",
       "      <td>10168</td>\n",
       "      <td>40.751448</td>\n",
       "      <td>-73.977103</td>\n",
       "      <td>1.057494e+00</td>\n",
       "    </tr>\n",
       "  </tbody>\n",
       "</table>\n",
       "</div>"
      ],
      "text/plain": [
       "    GEO.id2   Latitude  Longitude      Distance\n",
       "1     10001  40.750672 -73.997281  4.395101e-13\n",
       "64    10199  40.751393 -73.997229  4.986269e-02\n",
       "48    10119  40.750310 -73.992979  2.265629e-01\n",
       "16    10018  40.755329 -73.993127  3.883493e-01\n",
       "10    10011  40.742002 -74.000594  6.236593e-01\n",
       "34    10036  40.759280 -73.989909  7.089540e-01\n",
       "44    10110  40.754499 -73.982256  8.296428e-01\n",
       "61    10173  40.754131 -73.979364  9.677624e-01\n",
       "54    10165  40.752131 -73.978722  9.765976e-01\n",
       "56    10168  40.751448 -73.977103  1.057494e+00"
      ]
     },
     "execution_count": 125,
     "metadata": {},
     "output_type": "execute_result"
    }
   ],
   "source": [
    "lon = -73.9972808\n",
    "lat = 40.750672\n",
    "NewZipcodeDistanceDf = closestzipcode(lon,lat,NYZipcodeDistanceDf)\n",
    "NewZipcodeDistanceDf.head(10)"
   ]
  },
  {
   "cell_type": "code",
   "execution_count": 47,
   "metadata": {},
   "outputs": [],
   "source": [
    "f = open('/home/henry/Insight/Yogee/Model/PredictDF.pckl', 'rb')\n",
    "PredictDf = pickle.load(f)\n",
    "f.close()"
   ]
  },
  {
   "cell_type": "code",
   "execution_count": null,
   "metadata": {},
   "outputs": [],
   "source": []
  },
  {
   "cell_type": "code",
   "execution_count": 45,
   "metadata": {},
   "outputs": [],
   "source": [
    "InputZipcode = '10002'\n",
    "InputZipcode = np.int64(InputZipcode)\n",
    "InputZipRow = NYZipcodeDistanceDf[NYZipcodeDistanceDf['GEO.id2']==InputZipcode]\n",
    "InputLon = InputZipRow['Longitude'].iloc[0]\n",
    "InputLat = InputZipRow['Latitude'].iloc[0]\n",
    "CloseZipcodeDf = closestzipcode(InputLon,InputLat,NYZipcodeDistanceDf)\n",
    "CloseZipcodeDf = CloseZipcodeDf[CloseZipcodeDf['Distance']<5]"
   ]
  },
  {
   "cell_type": "code",
   "execution_count": 74,
   "metadata": {},
   "outputs": [],
   "source": [
    "NumZipRecommend = 0\n",
    "i = 0\n",
    "ZipRecommend = []\n",
    "ScoreRecomend = []\n",
    "LonRecommend = []\n",
    "LatRecommend = []    \n",
    "\n",
    "while (NumZipRecommend < 5) and (i < CloseZipcodeDf.shape[0]): \n",
    "    ZipRow = CloseZipcodeDf.iloc[i,0]\n",
    "    LonRow = CloseZipcodeDf.iloc[i,2]\n",
    "    LatRow = CloseZipcodeDf.iloc[i,1]\n",
    "    PredictRow = PredictDf[PredictDf['zip']==ZipRow]\n",
    "    if not PredictRow.empty:\n",
    "        Score = PredictRow['Score'].iloc[0]\n",
    "        if Score > 5:\n",
    "            ZipRecommend.append(ZipRow)\n",
    "            ScoreRecomend.append(PredictRow['Score'])\n",
    "            LatRecommend.append(LatRow)\n",
    "            LonRecommend.append(LonRow)\n",
    "            NumZipRecommend = NumZipRecommend + 1            \n",
    "    i = i + 1"
   ]
  },
  {
   "cell_type": "code",
   "execution_count": 78,
   "metadata": {},
   "outputs": [
    {
     "data": {
      "text/plain": [
       "[10002, 10009, 10012, 10038, 10013]"
      ]
     },
     "execution_count": 78,
     "metadata": {},
     "output_type": "execute_result"
    }
   ],
   "source": [
    "ZipRecommend"
   ]
  }
 ],
 "metadata": {
  "kernelspec": {
   "display_name": "Python 3",
   "language": "python",
   "name": "python3"
  },
  "language_info": {
   "codemirror_mode": {
    "name": "ipython",
    "version": 3
   },
   "file_extension": ".py",
   "mimetype": "text/x-python",
   "name": "python",
   "nbconvert_exporter": "python",
   "pygments_lexer": "ipython3",
   "version": "3.6.5"
  }
 },
 "nbformat": 4,
 "nbformat_minor": 2
}
