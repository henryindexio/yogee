{
 "cells": [
  {
   "cell_type": "code",
   "execution_count": 1,
   "metadata": {},
   "outputs": [],
   "source": [
    "import numpy as np\n",
    "import pandas as pd\n",
    "import pickle"
   ]
  },
  {
   "cell_type": "code",
   "execution_count": 2,
   "metadata": {},
   "outputs": [],
   "source": [
    "import pickle\n",
    "\n",
    "f = open('/home/henry/Insight/Yogee/Datasets/Model_dataset/ModelDf.pckl', 'rb')\n",
    "ModelDf = pickle.load(f)\n",
    "f.close()"
   ]
  },
  {
   "cell_type": "code",
   "execution_count": 3,
   "metadata": {},
   "outputs": [],
   "source": [
    "#Remove 2017 data\n",
    "ModelDf = ModelDf[ModelDf['year'] != 2017]\n",
    "ModelDf = ModelDf.reset_index(drop=True)\n",
    "\n",
    "#Reduced land area size\n",
    "ModelDf.loc[:,'LandArea'] = ModelDf.loc[:,'LandArea']/100000\n"
   ]
  },
  {
   "cell_type": "code",
   "execution_count": 4,
   "metadata": {},
   "outputs": [],
   "source": [
    "#Get zipcodes in the dataset\n",
    "\n",
    "#Load population dataset\n",
    "Population2011FileLoc = \"/home/henry/Insight/Yogee/Datasets/NY_Population_dataset/ACS_11_5YR_B01003/ACS_11_5YR_B01003_with_ann.csv\"\n",
    "Population2011Df = pd.read_csv(Population2011FileLoc)\n",
    "\n",
    "#Get zipcodes to use\n",
    "zipcodes = Population2011Df.loc[:,'GEO.id2']"
   ]
  },
  {
   "cell_type": "code",
   "execution_count": 5,
   "metadata": {},
   "outputs": [],
   "source": [
    "#remove zipcodes with less than 100 people\n",
    "for i in range(0,zipcodes.shape[0]):\n",
    "    if Population2011Df.loc[i,'HD01_VD01'] < 100:\n",
    "        zipcode = zipcodes[i]\n",
    "        ModelDf = ModelDf[ModelDf['zip'] != zipcode]\n",
    "        zipcodes = zipcodes.drop(i)\n",
    "zipcodes = zipcodes.reset_index(drop=True)"
   ]
  },
  {
   "cell_type": "code",
   "execution_count": 6,
   "metadata": {},
   "outputs": [],
   "source": [
    "#create test set\n",
    "TestBin = np.random.random_sample(zipcodes.shape[0])>.9\n",
    "TestData = pd.DataFrame([],columns=['population','FemaleRatio','Income','LandArea','PopDensity','TotalStudio','NewStudioNextYearBin'])\n",
    "TestZipcodes = np.array([],dtype=int)\n",
    "TrainValidData = pd.DataFrame([],columns=['population','FemaleRatio','Income','LandArea','PopDensity','TotalStudio','NewStudioNextYearBin'])\n",
    "TrainValidZipcodes = np.array([],dtype=int)\n",
    "\n",
    "for i in range(0,zipcodes.shape[0]):\n",
    "        zipcode = zipcodes[i]\n",
    "        zipcodeData = ModelDf[ModelDf['zip'] == zipcode]\n",
    "        if TestBin[i]:\n",
    "            TestData =  pd.concat([TestData, zipcodeData], axis=0,  sort=False)\n",
    "            TestZipcodes = np.append(TestZipcodes,zipcode)\n",
    "        else:\n",
    "            TrainValidData =  pd.concat([TrainValidData, zipcodeData], axis=0 , sort=False)\n",
    "            TrainValidZipcodes = np.append(TrainValidZipcodes,zipcode)\n",
    "\n",
    "TestData = TestData.reset_index(drop=True)\n",
    "TrainValidData = TrainValidData.reset_index(drop=True)"
   ]
  },
  {
   "cell_type": "code",
   "execution_count": 7,
   "metadata": {},
   "outputs": [],
   "source": [
    "#create validation set\n",
    "ValidBin = np.random.random_sample(TrainValidZipcodes.shape[0])>.7\n",
    "ValidData = pd.DataFrame([],columns=['population','FemaleRatio','Income','LandArea','PopDensity','TotalStudio','NewStudioNextYearBin'])\n",
    "ValidZipcodes = np.array([],dtype=int)\n",
    "TrainData = pd.DataFrame([],columns=['population','FemaleRatio','Income','LandArea','PopDensity','TotalStudio','NewStudioNextYearBin'])\n",
    "TrainZipcodes = np.array([],dtype=int)\n",
    "\n",
    "for i in range(0,TrainValidZipcodes.shape[0]):\n",
    "        zipcode = TrainValidZipcodes[i]\n",
    "        zipcodeData = TrainValidData[TrainValidData['zip'] == zipcode]\n",
    "        if ValidBin[i]:\n",
    "            ValidData =  pd.concat([ValidData, zipcodeData], axis=0,  sort=False)\n",
    "            ValidZipcodes = np.append(ValidZipcodes,zipcode)\n",
    "        else:\n",
    "            TrainData =  pd.concat([TrainData, zipcodeData], axis=0 , sort=False)\n",
    "            TrainZipcodes = np.append(TrainZipcodes,zipcode)\n",
    "\n",
    "\n",
    "ValidData = ValidData.reset_index(drop=True)\n",
    "TrainData = TrainData.reset_index(drop=True)"
   ]
  },
  {
   "cell_type": "code",
   "execution_count": 8,
   "metadata": {},
   "outputs": [],
   "source": [
    "#Separate predictor and target variables\n",
    "TestDataX = TestData.loc[:,['population','FemaleRatio','Income','LandArea','PopDensity','TotalStudio']]\n",
    "TestDataY = TestData.loc[:,['NewStudioNextYearBin']]\n",
    "ValidDataX = ValidData.loc[:,['population','FemaleRatio','Income','LandArea','PopDensity','TotalStudio']]\n",
    "ValidDataY = ValidData.loc[:,['NewStudioNextYearBin']]\n",
    "TrainDataX = TrainData.loc[:,['population','FemaleRatio','Income','LandArea','PopDensity','TotalStudio']]\n",
    "TrainDataY = TrainData.loc[:,['NewStudioNextYearBin']]"
   ]
  },
  {
   "cell_type": "code",
   "execution_count": 12,
   "metadata": {},
   "outputs": [
    {
     "data": {
      "text/plain": [
       "array([[2203,  556],\n",
       "       [  13,   36]])"
      ]
     },
     "execution_count": 12,
     "metadata": {},
     "output_type": "execute_result"
    }
   ],
   "source": [
    "from sklearn import preprocessing\n",
    "from sklearn import linear_model\n",
    "from sklearn import svm\n",
    "from sklearn import metrics\n",
    "from sklearn.model_selection import train_test_split\n",
    "from imblearn.over_sampling import SMOTE\n",
    "from imblearn.pipeline import make_pipeline\n",
    "\n",
    "RANDOM_STATE = 42\n",
    "\n",
    "#Fill in missing data and scale input data\n",
    "imputer = preprocessing.Imputer()\n",
    "TestDataTransX = imputer.fit_transform(TestDataX)/10000\n",
    "TestDataScaledX = preprocessing.scale(TestDataTransX).tolist()\n",
    "ValidDataTransX = imputer.fit_transform(ValidDataX)/10000\n",
    "ValidDataScaledX = preprocessing.scale(ValidDataTransX).tolist()\n",
    "TrainDataTransX = imputer.fit_transform(TrainDataX)/10000\n",
    "TrainDataScaledX = preprocessing.scale(TrainDataTransX).tolist()\n",
    "\n",
    "TestDataValuesY = TestDataY.values.ravel().tolist()\n",
    "ValidDataValuesY = ValidDataY.values.ravel().tolist()\n",
    "TrainDataValuesY = TrainDataY.values.ravel().tolist()\n",
    "\n",
    "# Create a pipeline for Linear Regression\n",
    "pipeline = make_pipeline(SMOTE(random_state=RANDOM_STATE),\n",
    "                         linear_model.LogisticRegression())\n",
    "pipeline.fit(TrainDataScaledX,TrainDataValuesY)\n",
    "LogValidY = pipeline.predict(ValidDataScaledX)    \n",
    "LogLoss = metrics.log_loss(ValidDataValuesY,LogValidY)\n",
    "LogAcc = metrics.accuracy_score(np.round(ValidDataValuesY),np.round(LogValidY))\n",
    "ConfusionMatrix = metrics.confusion_matrix(ValidDataValuesY, LogValidY)\n",
    "ConfusionMatrix"
   ]
  },
  {
   "cell_type": "code",
   "execution_count": 15,
   "metadata": {},
   "outputs": [
    {
     "data": {
      "text/plain": [
       "592"
      ]
     },
     "execution_count": 15,
     "metadata": {},
     "output_type": "execute_result"
    }
   ],
   "source": [
    "np.sum(LogValidY)"
   ]
  },
  {
   "cell_type": "code",
   "execution_count": 1,
   "metadata": {},
   "outputs": [
    {
     "ename": "AttributeError",
     "evalue": "module 'pip' has no attribute 'get_installed_distributions'",
     "output_type": "error",
     "traceback": [
      "\u001b[0;31m---------------------------------------------------------------------------\u001b[0m",
      "\u001b[0;31mAttributeError\u001b[0m                            Traceback (most recent call last)",
      "\u001b[0;32m<ipython-input-1-fd9ce26928b6>\u001b[0m in \u001b[0;36m<module>\u001b[0;34m()\u001b[0m\n\u001b[1;32m      1\u001b[0m \u001b[0;32mimport\u001b[0m \u001b[0mpip\u001b[0m \u001b[0;31m#needed to use the pip functions\u001b[0m\u001b[0;34m\u001b[0m\u001b[0m\n\u001b[0;32m----> 2\u001b[0;31m \u001b[0;32mfor\u001b[0m \u001b[0mi\u001b[0m \u001b[0;32min\u001b[0m \u001b[0mpip\u001b[0m\u001b[0;34m.\u001b[0m\u001b[0mget_installed_distributions\u001b[0m\u001b[0;34m(\u001b[0m\u001b[0mlocal_only\u001b[0m\u001b[0;34m=\u001b[0m\u001b[0;32mTrue\u001b[0m\u001b[0;34m)\u001b[0m\u001b[0;34m:\u001b[0m\u001b[0;34m\u001b[0m\u001b[0m\n\u001b[0m\u001b[1;32m      3\u001b[0m     \u001b[0mprint\u001b[0m\u001b[0;34m(\u001b[0m\u001b[0mi\u001b[0m\u001b[0;34m)\u001b[0m\u001b[0;34m\u001b[0m\u001b[0m\n",
      "\u001b[0;31mAttributeError\u001b[0m: module 'pip' has no attribute 'get_installed_distributions'"
     ]
    }
   ],
   "source": [
    "import pip #needed to use the pip functions\n",
    "for i in pip.get_installed_distributions(local_only=True):\n",
    "    print(i)"
   ]
  }
 ],
 "metadata": {
  "kernelspec": {
   "display_name": "Python 3",
   "language": "python",
   "name": "python3"
  },
  "language_info": {
   "codemirror_mode": {
    "name": "ipython",
    "version": 3
   },
   "file_extension": ".py",
   "mimetype": "text/x-python",
   "name": "python",
   "nbconvert_exporter": "python",
   "pygments_lexer": "ipython3",
   "version": "3.6.6"
  }
 },
 "nbformat": 4,
 "nbformat_minor": 2
}
